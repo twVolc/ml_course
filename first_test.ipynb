{
 "cells": [
  {
   "cell_type": "markdown",
   "id": "6ac0134a",
   "metadata": {},
   "source": [
    "# Introduction to Python\n",
    "## First test"
   ]
  },
  {
   "cell_type": "code",
   "execution_count": 2,
   "id": "aae5ed97",
   "metadata": {},
   "outputs": [
    {
     "name": "stdout",
     "output_type": "stream",
     "text": [
      "1\n",
      "This is my first value: 1\n"
     ]
    }
   ],
   "source": [
    "# Set value of a to 1\n",
    "a = 1\n",
    "print(a)    # Print a\n",
    "print ('This is my first value: {}'.format(a))"
   ]
  },
  {
   "cell_type": "code",
   "execution_count": null,
   "id": "8396abc3",
   "metadata": {},
   "outputs": [],
   "source": []
  }
 ],
 "metadata": {
  "kernelspec": {
   "display_name": "ml_course",
   "language": "python",
   "name": "ml_course"
  },
  "language_info": {
   "codemirror_mode": {
    "name": "ipython",
    "version": 3
   },
   "file_extension": ".py",
   "mimetype": "text/x-python",
   "name": "python",
   "nbconvert_exporter": "python",
   "pygments_lexer": "ipython3",
   "version": "3.11.5"
  }
 },
 "nbformat": 4,
 "nbformat_minor": 5
}
