{
 "cells": [
  {
   "cell_type": "markdown",
   "id": "6ac0134a",
   "metadata": {},
   "source": [
    "# Introduction to Python\n",
    "## First test"
   ]
  },
  {
   "cell_type": "code",
   "execution_count": 1,
   "id": "aae5ed97",
   "metadata": {
    "ExecuteTime": {
     "end_time": "2023-09-20T16:13:53.350120900Z",
     "start_time": "2023-09-20T16:13:53.331135700Z"
    }
   },
   "outputs": [
    {
     "name": "stdout",
     "output_type": "stream",
     "text": [
      "1\n",
      "This is my first value: 1\n"
     ]
    }
   ],
   "source": [
    "# Set value of a to 1\n",
    "a = 1\n",
    "print(a)    # Print a\n",
    "print ('This is my first value: {}'.format(a))"
   ]
  },
  {
   "cell_type": "code",
   "execution_count": 1,
   "id": "8396abc3",
   "metadata": {
    "ExecuteTime": {
     "end_time": "2023-09-20T16:18:27.918688600Z",
     "start_time": "2023-09-20T16:18:27.046270400Z"
    }
   },
   "outputs": [],
   "source": [
    "import scipy"
   ]
  },
  {
   "cell_type": "code",
   "execution_count": 4,
   "id": "2fa59d8705cd7c23",
   "metadata": {},
   "outputs": [
    {
     "name": "stdout",
     "output_type": "stream",
     "text": [
      "[1.  1.4 1.8 2.2 2.6 3.  3.4]\n"
     ]
    }
   ],
   "source": [
    "x = [1,2,3,4,5,6]\n",
    "y = [1,5,1,5,1,5]\n",
    "b = scipy.interpolate.interp1d(x, y)\n",
    "x_new = [1,1.1,1.2,1.3,1.4,1.5,1.6]\n",
    "y_new = b(x_new)\n",
    "print(y_new)"
   ]
  },
  {
   "cell_type": "code",
   "execution_count": null,
   "id": "d31aefbb",
   "metadata": {},
   "outputs": [],
   "source": []
  }
 ],
 "metadata": {
  "kernelspec": {
   "display_name": "ml_course",
   "language": "python",
   "name": "ml_course"
  },
  "language_info": {
   "codemirror_mode": {
    "name": "ipython",
    "version": 3
   },
   "file_extension": ".py",
   "mimetype": "text/x-python",
   "name": "python",
   "nbconvert_exporter": "python",
   "pygments_lexer": "ipython3",
   "version": "3.11.5"
  }
 },
 "nbformat": 4,
 "nbformat_minor": 5
}
